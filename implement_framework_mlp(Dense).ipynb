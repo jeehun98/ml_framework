{
  "nbformat": 4,
  "nbformat_minor": 0,
  "metadata": {
    "colab": {
      "provenance": []
    },
    "kernelspec": {
      "name": "python3",
      "display_name": "Python 3"
    },
    "language_info": {
      "name": "python"
    }
  },
  "cells": [
    {
      "cell_type": "code",
      "source": [
        "import numpy as np"
      ],
      "metadata": {
        "id": "TEKsRSrKeArT"
      },
      "execution_count": 1,
      "outputs": []
    },
    {
      "cell_type": "code",
      "source": [
        "# 활성화 함수\n",
        "class activation_function:\n",
        "  # 시그모이드 함수\n",
        "  def sigmoid(self, x):\n",
        "    return 1 / (1+np.e**-x)\n",
        "  \n",
        "  # 시그모이드 함수의 미분 함수\n",
        "  def sigmoid_diff(self, x):  \n",
        "    return self.sigmoid(x) * (1 - self.sigmoid(x))"
      ],
      "metadata": {
        "id": "paNmDV4XiANq"
      },
      "execution_count": 2,
      "outputs": []
    },
    {
      "cell_type": "code",
      "source": [
        "# 비용 함수 클래스, 비용 함수의 종류에 따라 다른 클래스 내 함수를 사용한다.\n",
        "class cost_function:\n",
        "  # 예측값\n",
        "  predict = []\n",
        "  # 타겟값\n",
        "  target = []\n",
        "  # 비용 함수값\n",
        "  error_cost = []\n",
        "\n",
        "  # 오차 제곱합\n",
        "  def errer_squared_sum(self, predict, target):\n",
        "    self.predict = predict\n",
        "    self.target = target\n",
        "\n",
        "    self.error_cost = np.sum(0.5*((predict - target)**2))\n",
        "    return self.error_cost\n",
        "\n",
        "  # 오차 제곱합 미분 함수\n",
        "  def diff_error_squared_sum(self, predict, target):\n",
        "    self.predict = predict\n",
        "    self.target = target\n",
        "\n",
        "    return self.predict - self.target"
      ],
      "metadata": {
        "id": "F13OlfthiwHL"
      },
      "execution_count": 3,
      "outputs": []
    },
    {
      "cell_type": "code",
      "source": [
        "# Dense 클래스\n",
        "class Dense():\n",
        "  #가중치\n",
        "  weight = []\n",
        "\n",
        "  #편향값\n",
        "  bias = []\n",
        "    \n",
        "  # 각 층별 노드들의 입력, 활성화 함수 연산 전의 값\n",
        "  node_input = []\n",
        "\n",
        "  # 각 층별 노드들의 출력\n",
        "  node_output = []\n",
        "\n",
        "  # 타겟, 목푯값\n",
        "  target = []\n",
        "\n",
        "  # 각 층의 델타 값의 저장\n",
        "  delta = []\n",
        "\n",
        "  # 활성화 함수\n",
        "  activation = activation_function()\n",
        "\n",
        "  # 가중치 업데이트 크기\n",
        "  weight_update_arr = []\n",
        "\n",
        "  # Dense 층\n",
        "  def Dense_layer(self, input_node, hidden_node, activation = \"same\"):\n",
        "    \"\"\"\n",
        "    Args:\n",
        "      activation : 활성화 함수 종류\n",
        "      padding : 패딩 종류\n",
        "      input_shape : 입력값의 크기\n",
        "    \"\"\"\n",
        "    Dense_dict = dict()\n",
        "    Dense_dict['layer_type'] = \"Dense\"\n",
        "    Dense_dict['input_node'] = input_node\n",
        "    Dense_dict['hidden_node'] = hidden_node\n",
        "    Dense_dict['activatoin'] = activation\n",
        "    return Dense_dict\n",
        "\n",
        "  # train Dense\n",
        "  def train(self, dict, data):\n",
        "    hidden_node = dict['hidden_node']\n",
        "    input_node = dict['input_node']\n",
        "\n",
        "    # 가중치의 임의 생성, 입력, 은닉 노드의 개수에 따라 가중치가 생성된다.\n",
        "    weight = np.random.rand(input_node, hidden_node)\n",
        "\n",
        "    #편향값의 임의 생성, 동일한 편향 값을 사용한다.\n",
        "    bias = np.random.rand(1)\n",
        "\n",
        "    # 가중치 값 저장\n",
        "    self.weight.append(weight)\n",
        "\n",
        "    # 편향 값 저장\n",
        "    self.bias.append(bias)\n",
        "\n",
        "    # 노드 입력값의 저장 필요, 활성화 미분 함수의 값을 구하기 위해 필요\n",
        "    self.node_input.append(input)\n",
        "\n",
        "    #가중치와 노드 출력의 행렬곱연산, 편향값 덧셈\n",
        "    hidden_input = weight @ input + bias\n",
        "            \n",
        "    if(dict['activation'] == 'sigmoid'):\n",
        "      #노드 입력과 활성화 함수 연산을 통한 노드 출력 계산\n",
        "      # cnn 에선 0과 1 사이의 결과를 출력해야 하기 때문에 시그모이드 활성화 함수를 사용\n",
        "      output = self.activation.sigmoid(hidden_input)\n",
        "\n",
        "    # 노드 출력의 저장\n",
        "    self.node_output.append(output)\n",
        "\n",
        "   "
      ],
      "metadata": {
        "id": "56r12mLmqIVO"
      },
      "execution_count": 4,
      "outputs": []
    },
    {
      "cell_type": "code",
      "execution_count": 5,
      "metadata": {
        "id": "kBUmfi6SpV-9",
        "colab": {
          "base_uri": "https://localhost:8080/",
          "height": 137
        },
        "outputId": "0a6125b9-e7b5-4f4c-b625-67df55df8c7d"
      },
      "outputs": [
        {
          "output_type": "error",
          "ename": "SyntaxError",
          "evalue": "ignored",
          "traceback": [
            "\u001b[0;36m  File \u001b[0;32m\"<ipython-input-5-71dbfc34516a>\"\u001b[0;36m, line \u001b[0;32m38\u001b[0m\n\u001b[0;31m    self.dense.\u001b[0m\n\u001b[0m               ^\u001b[0m\n\u001b[0;31mSyntaxError\u001b[0m\u001b[0;31m:\u001b[0m invalid syntax\n"
          ]
        }
      ],
      "source": [
        "# Sequential 클래스\n",
        "class Sequential():\n",
        "  # 층을 차례대로 쌓아서 구성, 각 층을 배열 형태로 지정\n",
        "  layer = []\n",
        "\n",
        "  # 각 레이어 별 출력값\n",
        "  layer_result = []\n",
        "\n",
        "  # compile\n",
        "  compile_dir = []\n",
        "\n",
        "  # fit\n",
        "  fit_dir = []\n",
        "\n",
        "  # dense\n",
        "  dense = Dense()\n",
        "\n",
        "  # 비용 함수\n",
        "  cost = cost_function()\n",
        "\n",
        "  # 비용 함수 값\n",
        "  cost_result = []\n",
        "\n",
        "  # 각 층을 쌓기 위한 함수\n",
        "  def add(self, dict):\n",
        "    self.layer.append(dict)\n",
        "\n",
        "  # fit 함수\n",
        "  def fit(self, dict):\n",
        "    self.fit = dict\n",
        "    \n",
        "  # compile 함수\n",
        "  def compile(self, loss = \"mse\", metrics = ['accuaray']):\n",
        "    self.compile_dir = dict\n",
        "    \n",
        "  # train 함수\n",
        "  def train(self, data, target):\n",
        "    for i in range(len(self.layer) - 1):\n",
        "      layer_type = self.layer[i].get('layer_type')\n",
        "      if(layer_type == 'Dense'):\n",
        "        self.dense.train(self.layer[i])\n",
        "\n",
        "    # 비용 함수 계산, 예측값\n",
        "    predict = self.dense.node_output[-1]\n",
        "\n",
        "    # 비용 함수 값\n",
        "    self.cost_result = self.cost.errer_squared_sum(predict, target)"
      ]
    },
    {
      "cell_type": "code",
      "source": [
        "model = Sequential()"
      ],
      "metadata": {
        "id": "5AuWVNW5waqY"
      },
      "execution_count": null,
      "outputs": []
    },
    {
      "cell_type": "code",
      "source": [
        "dense = Dense()"
      ],
      "metadata": {
        "id": "F-jFUqhJsMQD"
      },
      "execution_count": null,
      "outputs": []
    },
    {
      "cell_type": "code",
      "source": [
        "model.add(dense.Dense_layer(10,8))"
      ],
      "metadata": {
        "id": "grWdIQ30sNXW"
      },
      "execution_count": null,
      "outputs": []
    },
    {
      "cell_type": "code",
      "source": [
        "model.add(dense.Dense_layer(8, 3))"
      ],
      "metadata": {
        "id": "Na7GblFk0qD9"
      },
      "execution_count": null,
      "outputs": []
    },
    {
      "cell_type": "code",
      "source": [
        "model.compile(loss=\"mse\", metrics=['accuaray'])"
      ],
      "metadata": {
        "id": "hFssw08DvFQ-"
      },
      "execution_count": null,
      "outputs": []
    },
    {
      "cell_type": "code",
      "source": [],
      "metadata": {
        "id": "Fj5wmZcV3cM5"
      },
      "execution_count": null,
      "outputs": []
    },
    {
      "cell_type": "code",
      "source": [],
      "metadata": {
        "id": "KI_ADdBGfCsp"
      },
      "execution_count": null,
      "outputs": []
    }
  ]
}