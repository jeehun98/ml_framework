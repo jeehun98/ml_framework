{
  "nbformat": 4,
  "nbformat_minor": 0,
  "metadata": {
    "colab": {
      "provenance": []
    },
    "kernelspec": {
      "name": "python3",
      "display_name": "Python 3"
    },
    "language_info": {
      "name": "python"
    }
  },
  "cells": [
    {
      "cell_type": "code",
      "execution_count": 41,
      "metadata": {
        "id": "kBUmfi6SpV-9"
      },
      "outputs": [],
      "source": [
        "# Sequential 클래스\n",
        "class Sequential():\n",
        "  # 층을 차례대로 쌓아서 구성, 각 층을 배열 형태로 지정\n",
        "  layer = []\n",
        "\n",
        "  # compile\n",
        "  compile_dir = []\n",
        "\n",
        "  # 각 층을 쌓기 위한 함수\n",
        "  def add(self, *args):\n",
        "    self.layer.append(args)\n",
        "\n",
        "  # compile 함수\n",
        "  def compile(self, **kwargs):\n",
        "    self.compile_dir = kwargs\n"
      ]
    },
    {
      "cell_type": "code",
      "source": [
        "# Dense 클래스\n",
        "class Dense():\n",
        "\n",
        "  # Dense 층\n",
        "  def Dense_layer(self, input_node, hidden_node, activation = \"same\"):\n",
        "    \"\"\"\n",
        "    Args:\n",
        "      activation : 활성화 함수 종류\n",
        "      padding : 패딩 종류\n",
        "      input_shape : 입력값의 크기\n",
        "    \"\"\"\n",
        "    Dense_dict={}\n",
        "    Dense_dict['input_node'] = input_node\n",
        "    Dense_dict['hidden_node'] = hidden_node\n",
        "    Dense_dict['activatoin'] = activation\n",
        "    return Dense_dict"
      ],
      "metadata": {
        "id": "56r12mLmqIVO"
      },
      "execution_count": 42,
      "outputs": []
    },
    {
      "cell_type": "code",
      "source": [
        "model = Sequential()"
      ],
      "metadata": {
        "id": "5AuWVNW5waqY"
      },
      "execution_count": 43,
      "outputs": []
    },
    {
      "cell_type": "code",
      "source": [
        "dense = Dense()"
      ],
      "metadata": {
        "id": "F-jFUqhJsMQD"
      },
      "execution_count": 44,
      "outputs": []
    },
    {
      "cell_type": "code",
      "source": [
        "model.add(dense.Dense_layer(10, 8))"
      ],
      "metadata": {
        "id": "grWdIQ30sNXW"
      },
      "execution_count": 45,
      "outputs": []
    },
    {
      "cell_type": "code",
      "source": [
        "model.layer[0]"
      ],
      "metadata": {
        "colab": {
          "base_uri": "https://localhost:8080/"
        },
        "id": "oK0og5GNvITP",
        "outputId": "783322a6-900d-46b4-a6df-a93947f0d01f"
      },
      "execution_count": 46,
      "outputs": [
        {
          "output_type": "execute_result",
          "data": {
            "text/plain": [
              "({'input_node': 10, 'hidden_node': 8, 'activatoin': 'same'},)"
            ]
          },
          "metadata": {},
          "execution_count": 46
        }
      ]
    },
    {
      "cell_type": "code",
      "source": [
        "model.compile(loss=\"mse\", metrics=['accuaray'])"
      ],
      "metadata": {
        "id": "hFssw08DvFQ-"
      },
      "execution_count": 47,
      "outputs": []
    },
    {
      "cell_type": "code",
      "source": [
        "model.compile_dir"
      ],
      "metadata": {
        "colab": {
          "base_uri": "https://localhost:8080/"
        },
        "id": "UM32i8sXLBAm",
        "outputId": "283567ff-6489-4b4f-dff8-a2c7beadde45"
      },
      "execution_count": 48,
      "outputs": [
        {
          "output_type": "execute_result",
          "data": {
            "text/plain": [
              "{'loss': 'mse', 'metrics': ['accuaray']}"
            ]
          },
          "metadata": {},
          "execution_count": 48
        }
      ]
    },
    {
      "cell_type": "code",
      "source": [],
      "metadata": {
        "id": "9-FAT_WRLOFY"
      },
      "execution_count": 48,
      "outputs": []
    }
  ]
}