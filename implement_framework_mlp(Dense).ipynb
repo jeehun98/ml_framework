{
  "nbformat": 4,
  "nbformat_minor": 0,
  "metadata": {
    "colab": {
      "provenance": []
    },
    "kernelspec": {
      "name": "python3",
      "display_name": "Python 3"
    },
    "language_info": {
      "name": "python"
    }
  },
  "cells": [
    {
      "cell_type": "code",
      "execution_count": null,
      "metadata": {
        "id": "kBUmfi6SpV-9"
      },
      "outputs": [],
      "source": [
        "# Sequential 클래스\n",
        "class Sequential():\n",
        "  # 층을 차례대로 쌓아서 구성, 각 층을 배열 형태로 지정\n",
        "  layer = []\n",
        "\n",
        "  # 각 층을 쌓기 위한 함수\n",
        "  def add(self, *args):\n",
        "    self.layer.append(args)\n"
      ]
    },
    {
      "cell_type": "code",
      "source": [
        "# Dense 클래스\n",
        "class Dense():\n",
        "\n",
        "  # Dense 층\n",
        "  def Dense_layer(self, input_node, hidden_node, activation = \"same\"):\n",
        "    \"\"\"\n",
        "    Args:\n",
        "      activation : 활성화 함수 종류\n",
        "      padding : 패딩 종류\n",
        "      input_shape : 입력값의 크기\n",
        "    \"\"\"\n",
        "    return input_node, hidden_node, activation"
      ],
      "metadata": {
        "id": "56r12mLmqIVO"
      },
      "execution_count": null,
      "outputs": []
    },
    {
      "cell_type": "code",
      "source": [
        "model = Sequential()"
      ],
      "metadata": {
        "id": "5AuWVNW5waqY"
      },
      "execution_count": null,
      "outputs": []
    },
    {
      "cell_type": "code",
      "source": [
        "dense = Dense()"
      ],
      "metadata": {
        "id": "F-jFUqhJsMQD"
      },
      "execution_count": null,
      "outputs": []
    },
    {
      "cell_type": "code",
      "source": [
        "model.add(dense.Dense_layer(10, 8))"
      ],
      "metadata": {
        "id": "grWdIQ30sNXW"
      },
      "execution_count": null,
      "outputs": []
    },
    {
      "cell_type": "code",
      "source": [
        "model.layer[0]"
      ],
      "metadata": {
        "colab": {
          "base_uri": "https://localhost:8080/"
        },
        "id": "oK0og5GNvITP",
        "outputId": "2fdad326-9ac0-4a0a-edf3-1508b33dc651"
      },
      "execution_count": null,
      "outputs": [
        {
          "output_type": "execute_result",
          "data": {
            "text/plain": [
              "((10, 8, 'same'),)"
            ]
          },
          "metadata": {},
          "execution_count": 64
        }
      ]
    },
    {
      "cell_type": "code",
      "source": [],
      "metadata": {
        "id": "hFssw08DvFQ-"
      },
      "execution_count": null,
      "outputs": []
    }
  ]
}