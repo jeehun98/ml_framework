{
  "nbformat": 4,
  "nbformat_minor": 0,
  "metadata": {
    "colab": {
      "provenance": []
    },
    "kernelspec": {
      "name": "python3",
      "display_name": "Python 3"
    },
    "language_info": {
      "name": "python"
    }
  },
  "cells": [
    {
      "cell_type": "code",
      "source": [
        "import numpy as np"
      ],
      "metadata": {
        "id": "TEKsRSrKeArT"
      },
      "execution_count": 123,
      "outputs": []
    },
    {
      "cell_type": "code",
      "source": [
        "# Dense 클래스\n",
        "class Dense():\n",
        "\n",
        "  # Dense 층\n",
        "  def Dense_layer(self, input_node, hidden_node, activation = \"same\"):\n",
        "    \"\"\"\n",
        "    Args:\n",
        "      activation : 활성화 함수 종류\n",
        "      padding : 패딩 종류\n",
        "      input_shape : 입력값의 크기\n",
        "    \"\"\"\n",
        "    Dense_dict = dict()\n",
        "    Dense_dict['layer_type'] = \"Dense\"\n",
        "    Dense_dict['input_node'] = input_node\n",
        "    Dense_dict['hidden_node'] = hidden_node\n",
        "    Dense_dict['activatoin'] = activation\n",
        "    return Dense_dict\n",
        "\n",
        "  # train\n",
        "  def train(self, **kwargs):\n",
        "    print(kwargs)\n",
        "\n",
        "    hidden_node = kwargs['hidden_node']\n",
        "    input_node = kwargs['input_node']\n",
        "\n",
        "    # 가중치의 임의 생성, 입력, 은닉 노드의 개수에 따라 가중치가 생성된다.\n",
        "    weight = np.random.rand(input_node, hidden_node)\n",
        "\n",
        "    #편향값의 임의 생성, 동일한 편향 값을 사용한다.\n",
        "    bias = np.random.rand(1)"
      ],
      "metadata": {
        "id": "56r12mLmqIVO"
      },
      "execution_count": 124,
      "outputs": []
    },
    {
      "cell_type": "code",
      "execution_count": 125,
      "metadata": {
        "id": "kBUmfi6SpV-9"
      },
      "outputs": [],
      "source": [
        "# Sequential 클래스\n",
        "class Sequential():\n",
        "  # 층을 차례대로 쌓아서 구성, 각 층을 배열 형태로 지정\n",
        "  layer = []\n",
        "\n",
        "  # compile\n",
        "  compile_dir = []\n",
        "\n",
        "  # fit\n",
        "  fit_dir = []\n",
        "\n",
        "  # dense\n",
        "  dense = Dense()\n",
        "\n",
        "  # 각 층을 쌓기 위한 함수\n",
        "  def add(self, dict):\n",
        "    self.layer.append(dict)\n",
        "\n",
        "  # fit 함수\n",
        "  def fit(self, dict):\n",
        "    self.fit = dict\n",
        "    \n",
        "  # compile 함수\n",
        "  def compile(self):\n",
        "    self.compile_dir = dict\n",
        "    for i in range(len(self.layer)):\n",
        "      print(self.layer[i])\n",
        "      layer_type = self.layer[i][0].get('layer_type')\n",
        "      if(layer_type == 'Dense'):\n",
        "        self.dense.train(self.layer[i][0])"
      ]
    },
    {
      "cell_type": "code",
      "source": [
        "model = Sequential()"
      ],
      "metadata": {
        "id": "5AuWVNW5waqY"
      },
      "execution_count": 126,
      "outputs": []
    },
    {
      "cell_type": "code",
      "source": [
        "dense = Dense()"
      ],
      "metadata": {
        "id": "F-jFUqhJsMQD"
      },
      "execution_count": 127,
      "outputs": []
    },
    {
      "cell_type": "code",
      "source": [
        "model.add(dense.Dense_layer(10,8))"
      ],
      "metadata": {
        "id": "grWdIQ30sNXW"
      },
      "execution_count": 128,
      "outputs": []
    },
    {
      "cell_type": "code",
      "source": [
        "model.add(dense.Dense_layer(8, 3))"
      ],
      "metadata": {
        "id": "Na7GblFk0qD9"
      },
      "execution_count": 129,
      "outputs": []
    },
    {
      "cell_type": "code",
      "source": [
        "model.compile(loss=\"mse\", metrics=['accuaray'])"
      ],
      "metadata": {
        "id": "hFssw08DvFQ-",
        "colab": {
          "base_uri": "https://localhost:8080/",
          "height": 321
        },
        "outputId": "bddd411f-0ef6-4291-ad32-7085ae4d62d7"
      },
      "execution_count": 130,
      "outputs": [
        {
          "output_type": "stream",
          "name": "stdout",
          "text": [
            "{'layer_type': 'Dense', 'input_node': 10, 'hidden_node': 8, 'activatoin': 'same'}\n"
          ]
        },
        {
          "output_type": "error",
          "ename": "KeyError",
          "evalue": "ignored",
          "traceback": [
            "\u001b[0;31m---------------------------------------------------------------------------\u001b[0m",
            "\u001b[0;31mKeyError\u001b[0m                                  Traceback (most recent call last)",
            "\u001b[0;32m<ipython-input-130-cac556f58a85>\u001b[0m in \u001b[0;36m<cell line: 1>\u001b[0;34m()\u001b[0m\n\u001b[0;32m----> 1\u001b[0;31m \u001b[0mmodel\u001b[0m\u001b[0;34m.\u001b[0m\u001b[0mcompile\u001b[0m\u001b[0;34m(\u001b[0m\u001b[0;34m)\u001b[0m\u001b[0;34m\u001b[0m\u001b[0;34m\u001b[0m\u001b[0m\n\u001b[0m",
            "\u001b[0;32m<ipython-input-125-bf8d4bd6505a>\u001b[0m in \u001b[0;36mcompile\u001b[0;34m(self)\u001b[0m\n\u001b[1;32m     26\u001b[0m     \u001b[0;32mfor\u001b[0m \u001b[0mi\u001b[0m \u001b[0;32min\u001b[0m \u001b[0mrange\u001b[0m\u001b[0;34m(\u001b[0m\u001b[0mlen\u001b[0m\u001b[0;34m(\u001b[0m\u001b[0mself\u001b[0m\u001b[0;34m.\u001b[0m\u001b[0mlayer\u001b[0m\u001b[0;34m)\u001b[0m\u001b[0;34m)\u001b[0m\u001b[0;34m:\u001b[0m\u001b[0;34m\u001b[0m\u001b[0;34m\u001b[0m\u001b[0m\n\u001b[1;32m     27\u001b[0m       \u001b[0mprint\u001b[0m\u001b[0;34m(\u001b[0m\u001b[0mself\u001b[0m\u001b[0;34m.\u001b[0m\u001b[0mlayer\u001b[0m\u001b[0;34m[\u001b[0m\u001b[0mi\u001b[0m\u001b[0;34m]\u001b[0m\u001b[0;34m)\u001b[0m\u001b[0;34m\u001b[0m\u001b[0;34m\u001b[0m\u001b[0m\n\u001b[0;32m---> 28\u001b[0;31m       \u001b[0mlayer_type\u001b[0m \u001b[0;34m=\u001b[0m \u001b[0mself\u001b[0m\u001b[0;34m.\u001b[0m\u001b[0mlayer\u001b[0m\u001b[0;34m[\u001b[0m\u001b[0mi\u001b[0m\u001b[0;34m]\u001b[0m\u001b[0;34m[\u001b[0m\u001b[0;36m0\u001b[0m\u001b[0;34m]\u001b[0m\u001b[0;34m.\u001b[0m\u001b[0mget\u001b[0m\u001b[0;34m(\u001b[0m\u001b[0;34m'layer_type'\u001b[0m\u001b[0;34m)\u001b[0m\u001b[0;34m\u001b[0m\u001b[0;34m\u001b[0m\u001b[0m\n\u001b[0m\u001b[1;32m     29\u001b[0m       \u001b[0;32mif\u001b[0m\u001b[0;34m(\u001b[0m\u001b[0mlayer_type\u001b[0m \u001b[0;34m==\u001b[0m \u001b[0;34m'Dense'\u001b[0m\u001b[0;34m)\u001b[0m\u001b[0;34m:\u001b[0m\u001b[0;34m\u001b[0m\u001b[0;34m\u001b[0m\u001b[0m\n\u001b[1;32m     30\u001b[0m         \u001b[0mself\u001b[0m\u001b[0;34m.\u001b[0m\u001b[0mdense\u001b[0m\u001b[0;34m.\u001b[0m\u001b[0mtrain\u001b[0m\u001b[0;34m(\u001b[0m\u001b[0mself\u001b[0m\u001b[0;34m.\u001b[0m\u001b[0mlayer\u001b[0m\u001b[0;34m[\u001b[0m\u001b[0mi\u001b[0m\u001b[0;34m]\u001b[0m\u001b[0;34m[\u001b[0m\u001b[0;36m0\u001b[0m\u001b[0;34m]\u001b[0m\u001b[0;34m)\u001b[0m\u001b[0;34m\u001b[0m\u001b[0;34m\u001b[0m\u001b[0m\n",
            "\u001b[0;31mKeyError\u001b[0m: 0"
          ]
        }
      ]
    },
    {
      "cell_type": "code",
      "source": [],
      "metadata": {
        "id": "Fj5wmZcV3cM5"
      },
      "execution_count": null,
      "outputs": []
    },
    {
      "cell_type": "code",
      "source": [],
      "metadata": {
        "id": "KI_ADdBGfCsp"
      },
      "execution_count": null,
      "outputs": []
    }
  ]
}