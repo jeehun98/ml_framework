{
  "nbformat": 4,
  "nbformat_minor": 0,
  "metadata": {
    "colab": {
      "provenance": []
    },
    "kernelspec": {
      "name": "python3",
      "display_name": "Python 3"
    },
    "language_info": {
      "name": "python"
    }
  },
  "cells": [
    {
      "cell_type": "code",
      "execution_count": null,
      "metadata": {
        "id": "YfI2B5KGi11z"
      },
      "outputs": [],
      "source": [
        "# Sequential 클래스\n",
        "class Sequential():\n",
        "  # 층을 차례대로 쌓아서 구성, 각 층을 배열 형태로 지정\n",
        "  layer = []\n",
        "\n",
        "  # compile\n",
        "  compile_dir = []\n",
        "\n",
        "  # 각 층을 쌓기 위한 함수\n",
        "  def add(self, *args):\n",
        "    self.layer.append(args)\n",
        "\n",
        "  # compile 함수\n",
        "  def compile(self, **kwargs):\n",
        "    self.compile_dir = kwargs\n"
      ]
    },
    {
      "cell_type": "code",
      "source": [
        "model = Sequential()"
      ],
      "metadata": {
        "id": "6irlxH_Em4kB"
      },
      "execution_count": null,
      "outputs": []
    },
    {
      "cell_type": "code",
      "source": [
        "model.add()"
      ],
      "metadata": {
        "id": "6cGUJUWBnH4p"
      },
      "execution_count": null,
      "outputs": []
    },
    {
      "cell_type": "code",
      "source": [
        "len(model.layer)"
      ],
      "metadata": {
        "colab": {
          "base_uri": "https://localhost:8080/"
        },
        "id": "ov6KKp4bnJDv",
        "outputId": "32297eca-ecef-4487-cb23-15ab19756976"
      },
      "execution_count": null,
      "outputs": [
        {
          "output_type": "execute_result",
          "data": {
            "text/plain": [
              "1"
            ]
          },
          "metadata": {},
          "execution_count": 8
        }
      ]
    },
    {
      "cell_type": "code",
      "source": [],
      "metadata": {
        "id": "JW8DJmOQnOLb"
      },
      "execution_count": null,
      "outputs": []
    }
  ]
}